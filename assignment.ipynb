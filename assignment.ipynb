{
 "cells": [
  {
   "cell_type": "code",
   "execution_count": 22,
   "id": "b4cb7b9f-4b68-4c8f-be5e-d01b48dccf37",
   "metadata": {},
   "outputs": [],
   "source": [
    "# imports \n",
    "import pandas as pd\n",
    "import numpy as np\n",
    "import matplotlib.pyplot as plt\n",
    "import seaborn as sns\n",
    "from sklearn.preprocessing import StandardScaler\n",
    "from sklearn.cluster import KMeans\n",
    "from scipy.spatial.distance import cdist\n",
    "from sklearn.ensemble import IsolationForest\n",
    "from sklearn import set_config\n",
    "set_config(transform_output='pandas')"
   ]
  },
  {
   "cell_type": "code",
   "execution_count": 6,
   "id": "f07cb7f6-0bb4-4815-89de-0e427e5cfeed",
   "metadata": {},
   "outputs": [
    {
     "data": {
      "text/html": [
       "<div>\n",
       "<style scoped>\n",
       "    .dataframe tbody tr th:only-of-type {\n",
       "        vertical-align: middle;\n",
       "    }\n",
       "\n",
       "    .dataframe tbody tr th {\n",
       "        vertical-align: top;\n",
       "    }\n",
       "\n",
       "    .dataframe thead th {\n",
       "        text-align: right;\n",
       "    }\n",
       "</style>\n",
       "<table border=\"1\" class=\"dataframe\">\n",
       "  <thead>\n",
       "    <tr style=\"text-align: right;\">\n",
       "      <th></th>\n",
       "      <th>V1</th>\n",
       "      <th>V2</th>\n",
       "      <th>V3</th>\n",
       "      <th>V4</th>\n",
       "      <th>V5</th>\n",
       "      <th>V6</th>\n",
       "      <th>V7</th>\n",
       "      <th>V8</th>\n",
       "      <th>V9</th>\n",
       "      <th>V10</th>\n",
       "      <th>...</th>\n",
       "      <th>V20</th>\n",
       "      <th>V21</th>\n",
       "      <th>V22</th>\n",
       "      <th>V23</th>\n",
       "      <th>V24</th>\n",
       "      <th>V25</th>\n",
       "      <th>V26</th>\n",
       "      <th>V27</th>\n",
       "      <th>V28</th>\n",
       "      <th>Amount</th>\n",
       "    </tr>\n",
       "  </thead>\n",
       "  <tbody>\n",
       "    <tr>\n",
       "      <th>0</th>\n",
       "      <td>-1.359807</td>\n",
       "      <td>-0.072781</td>\n",
       "      <td>2.536347</td>\n",
       "      <td>1.378155</td>\n",
       "      <td>-0.338321</td>\n",
       "      <td>0.462388</td>\n",
       "      <td>0.239599</td>\n",
       "      <td>0.098698</td>\n",
       "      <td>0.363787</td>\n",
       "      <td>0.090794</td>\n",
       "      <td>...</td>\n",
       "      <td>0.251412</td>\n",
       "      <td>-0.018307</td>\n",
       "      <td>0.277838</td>\n",
       "      <td>-0.110474</td>\n",
       "      <td>0.066928</td>\n",
       "      <td>0.128539</td>\n",
       "      <td>-0.189115</td>\n",
       "      <td>0.133558</td>\n",
       "      <td>-0.021053</td>\n",
       "      <td>149.62</td>\n",
       "    </tr>\n",
       "    <tr>\n",
       "      <th>1</th>\n",
       "      <td>1.191857</td>\n",
       "      <td>0.266151</td>\n",
       "      <td>0.166480</td>\n",
       "      <td>0.448154</td>\n",
       "      <td>0.060018</td>\n",
       "      <td>-0.082361</td>\n",
       "      <td>-0.078803</td>\n",
       "      <td>0.085102</td>\n",
       "      <td>-0.255425</td>\n",
       "      <td>-0.166974</td>\n",
       "      <td>...</td>\n",
       "      <td>-0.069083</td>\n",
       "      <td>-0.225775</td>\n",
       "      <td>-0.638672</td>\n",
       "      <td>0.101288</td>\n",
       "      <td>-0.339846</td>\n",
       "      <td>0.167170</td>\n",
       "      <td>0.125895</td>\n",
       "      <td>-0.008983</td>\n",
       "      <td>0.014724</td>\n",
       "      <td>2.69</td>\n",
       "    </tr>\n",
       "    <tr>\n",
       "      <th>2</th>\n",
       "      <td>-1.358354</td>\n",
       "      <td>-1.340163</td>\n",
       "      <td>1.773209</td>\n",
       "      <td>0.379780</td>\n",
       "      <td>-0.503198</td>\n",
       "      <td>1.800499</td>\n",
       "      <td>0.791461</td>\n",
       "      <td>0.247676</td>\n",
       "      <td>-1.514654</td>\n",
       "      <td>0.207643</td>\n",
       "      <td>...</td>\n",
       "      <td>0.524980</td>\n",
       "      <td>0.247998</td>\n",
       "      <td>0.771679</td>\n",
       "      <td>0.909412</td>\n",
       "      <td>-0.689281</td>\n",
       "      <td>-0.327642</td>\n",
       "      <td>-0.139097</td>\n",
       "      <td>-0.055353</td>\n",
       "      <td>-0.059752</td>\n",
       "      <td>378.66</td>\n",
       "    </tr>\n",
       "    <tr>\n",
       "      <th>3</th>\n",
       "      <td>-0.966272</td>\n",
       "      <td>-0.185226</td>\n",
       "      <td>1.792993</td>\n",
       "      <td>-0.863291</td>\n",
       "      <td>-0.010309</td>\n",
       "      <td>1.247203</td>\n",
       "      <td>0.237609</td>\n",
       "      <td>0.377436</td>\n",
       "      <td>-1.387024</td>\n",
       "      <td>-0.054952</td>\n",
       "      <td>...</td>\n",
       "      <td>-0.208038</td>\n",
       "      <td>-0.108300</td>\n",
       "      <td>0.005274</td>\n",
       "      <td>-0.190321</td>\n",
       "      <td>-1.175575</td>\n",
       "      <td>0.647376</td>\n",
       "      <td>-0.221929</td>\n",
       "      <td>0.062723</td>\n",
       "      <td>0.061458</td>\n",
       "      <td>123.50</td>\n",
       "    </tr>\n",
       "    <tr>\n",
       "      <th>4</th>\n",
       "      <td>-1.158233</td>\n",
       "      <td>0.877737</td>\n",
       "      <td>1.548718</td>\n",
       "      <td>0.403034</td>\n",
       "      <td>-0.407193</td>\n",
       "      <td>0.095921</td>\n",
       "      <td>0.592941</td>\n",
       "      <td>-0.270533</td>\n",
       "      <td>0.817739</td>\n",
       "      <td>0.753074</td>\n",
       "      <td>...</td>\n",
       "      <td>0.408542</td>\n",
       "      <td>-0.009431</td>\n",
       "      <td>0.798278</td>\n",
       "      <td>-0.137458</td>\n",
       "      <td>0.141267</td>\n",
       "      <td>-0.206010</td>\n",
       "      <td>0.502292</td>\n",
       "      <td>0.219422</td>\n",
       "      <td>0.215153</td>\n",
       "      <td>69.99</td>\n",
       "    </tr>\n",
       "  </tbody>\n",
       "</table>\n",
       "<p>5 rows × 29 columns</p>\n",
       "</div>"
      ],
      "text/plain": [
       "         V1        V2        V3        V4        V5        V6        V7  \\\n",
       "0 -1.359807 -0.072781  2.536347  1.378155 -0.338321  0.462388  0.239599   \n",
       "1  1.191857  0.266151  0.166480  0.448154  0.060018 -0.082361 -0.078803   \n",
       "2 -1.358354 -1.340163  1.773209  0.379780 -0.503198  1.800499  0.791461   \n",
       "3 -0.966272 -0.185226  1.792993 -0.863291 -0.010309  1.247203  0.237609   \n",
       "4 -1.158233  0.877737  1.548718  0.403034 -0.407193  0.095921  0.592941   \n",
       "\n",
       "         V8        V9       V10  ...       V20       V21       V22       V23  \\\n",
       "0  0.098698  0.363787  0.090794  ...  0.251412 -0.018307  0.277838 -0.110474   \n",
       "1  0.085102 -0.255425 -0.166974  ... -0.069083 -0.225775 -0.638672  0.101288   \n",
       "2  0.247676 -1.514654  0.207643  ...  0.524980  0.247998  0.771679  0.909412   \n",
       "3  0.377436 -1.387024 -0.054952  ... -0.208038 -0.108300  0.005274 -0.190321   \n",
       "4 -0.270533  0.817739  0.753074  ...  0.408542 -0.009431  0.798278 -0.137458   \n",
       "\n",
       "        V24       V25       V26       V27       V28  Amount  \n",
       "0  0.066928  0.128539 -0.189115  0.133558 -0.021053  149.62  \n",
       "1 -0.339846  0.167170  0.125895 -0.008983  0.014724    2.69  \n",
       "2 -0.689281 -0.327642 -0.139097 -0.055353 -0.059752  378.66  \n",
       "3 -1.175575  0.647376 -0.221929  0.062723  0.061458  123.50  \n",
       "4  0.141267 -0.206010  0.502292  0.219422  0.215153   69.99  \n",
       "\n",
       "[5 rows x 29 columns]"
      ]
     },
     "execution_count": 6,
     "metadata": {},
     "output_type": "execute_result"
    }
   ],
   "source": [
    "# loading data \n",
    "df = pd.read_csv('Data/credit_card.csv')\n",
    "df.head()"
   ]
  },
  {
   "cell_type": "code",
   "execution_count": 7,
   "id": "5ceb8d22-1095-4fb9-811e-830b7d7f34d1",
   "metadata": {},
   "outputs": [
    {
     "name": "stdout",
     "output_type": "stream",
     "text": [
      "<class 'pandas.core.frame.DataFrame'>\n",
      "RangeIndex: 10000 entries, 0 to 9999\n",
      "Data columns (total 29 columns):\n",
      " #   Column  Non-Null Count  Dtype  \n",
      "---  ------  --------------  -----  \n",
      " 0   V1      10000 non-null  float64\n",
      " 1   V2      10000 non-null  float64\n",
      " 2   V3      10000 non-null  float64\n",
      " 3   V4      10000 non-null  float64\n",
      " 4   V5      10000 non-null  float64\n",
      " 5   V6      10000 non-null  float64\n",
      " 6   V7      10000 non-null  float64\n",
      " 7   V8      10000 non-null  float64\n",
      " 8   V9      10000 non-null  float64\n",
      " 9   V10     10000 non-null  float64\n",
      " 10  V11     10000 non-null  float64\n",
      " 11  V12     10000 non-null  float64\n",
      " 12  V13     10000 non-null  float64\n",
      " 13  V14     10000 non-null  float64\n",
      " 14  V15     10000 non-null  float64\n",
      " 15  V16     10000 non-null  float64\n",
      " 16  V17     10000 non-null  float64\n",
      " 17  V18     10000 non-null  float64\n",
      " 18  V19     10000 non-null  float64\n",
      " 19  V20     10000 non-null  float64\n",
      " 20  V21     10000 non-null  float64\n",
      " 21  V22     10000 non-null  float64\n",
      " 22  V23     10000 non-null  float64\n",
      " 23  V24     10000 non-null  float64\n",
      " 24  V25     10000 non-null  float64\n",
      " 25  V26     10000 non-null  float64\n",
      " 26  V27     10000 non-null  float64\n",
      " 27  V28     10000 non-null  float64\n",
      " 28  Amount  10000 non-null  float64\n",
      "dtypes: float64(29)\n",
      "memory usage: 2.2 MB\n"
     ]
    }
   ],
   "source": [
    "df.info()"
   ]
  },
  {
   "cell_type": "code",
   "execution_count": 11,
   "id": "0ff42116-b129-42eb-b4b5-279469128f70",
   "metadata": {},
   "outputs": [
    {
     "data": {
      "text/plain": [
       "0"
      ]
     },
     "execution_count": 11,
     "metadata": {},
     "output_type": "execute_result"
    }
   ],
   "source": [
    "df.duplicated().sum()"
   ]
  },
  {
   "cell_type": "markdown",
   "id": "83c642e2-92ac-41d8-8cc2-53a1f1dff105",
   "metadata": {},
   "source": [
    "# 1. KMeans:"
   ]
  },
  {
   "cell_type": "code",
   "execution_count": 12,
   "id": "ec8cd740-c9d8-480f-b120-7471309870f7",
   "metadata": {},
   "outputs": [],
   "source": [
    "# create a copy of our df\n",
    "df_kmeans = df.copy()"
   ]
  },
  {
   "cell_type": "code",
   "execution_count": 13,
   "id": "9af045df-5003-486e-bf0a-8afe813d26e6",
   "metadata": {},
   "outputs": [
    {
     "data": {
      "text/html": [
       "<div>\n",
       "<style scoped>\n",
       "    .dataframe tbody tr th:only-of-type {\n",
       "        vertical-align: middle;\n",
       "    }\n",
       "\n",
       "    .dataframe tbody tr th {\n",
       "        vertical-align: top;\n",
       "    }\n",
       "\n",
       "    .dataframe thead th {\n",
       "        text-align: right;\n",
       "    }\n",
       "</style>\n",
       "<table border=\"1\" class=\"dataframe\">\n",
       "  <thead>\n",
       "    <tr style=\"text-align: right;\">\n",
       "      <th></th>\n",
       "      <th>V1</th>\n",
       "      <th>V2</th>\n",
       "      <th>V3</th>\n",
       "      <th>V4</th>\n",
       "      <th>V5</th>\n",
       "      <th>V6</th>\n",
       "      <th>V7</th>\n",
       "      <th>V8</th>\n",
       "      <th>V9</th>\n",
       "      <th>V10</th>\n",
       "      <th>...</th>\n",
       "      <th>V20</th>\n",
       "      <th>V21</th>\n",
       "      <th>V22</th>\n",
       "      <th>V23</th>\n",
       "      <th>V24</th>\n",
       "      <th>V25</th>\n",
       "      <th>V26</th>\n",
       "      <th>V27</th>\n",
       "      <th>V28</th>\n",
       "      <th>Amount</th>\n",
       "    </tr>\n",
       "  </thead>\n",
       "  <tbody>\n",
       "    <tr>\n",
       "      <th>0</th>\n",
       "      <td>-0.726092</td>\n",
       "      <td>-0.270865</td>\n",
       "      <td>1.389980</td>\n",
       "      <td>0.762227</td>\n",
       "      <td>-0.236899</td>\n",
       "      <td>0.264052</td>\n",
       "      <td>0.285346</td>\n",
       "      <td>0.131083</td>\n",
       "      <td>-0.384443</td>\n",
       "      <td>0.286120</td>\n",
       "      <td>...</td>\n",
       "      <td>0.370795</td>\n",
       "      <td>0.043066</td>\n",
       "      <td>0.689788</td>\n",
       "      <td>-0.163478</td>\n",
       "      <td>0.083851</td>\n",
       "      <td>0.099198</td>\n",
       "      <td>-0.532722</td>\n",
       "      <td>0.312929</td>\n",
       "      <td>-0.090009</td>\n",
       "      <td>0.459472</td>\n",
       "    </tr>\n",
       "    <tr>\n",
       "      <th>1</th>\n",
       "      <td>0.949810</td>\n",
       "      <td>-0.013020</td>\n",
       "      <td>-0.647336</td>\n",
       "      <td>0.110710</td>\n",
       "      <td>0.102482</td>\n",
       "      <td>-0.155239</td>\n",
       "      <td>-0.009963</td>\n",
       "      <td>0.120253</td>\n",
       "      <td>-0.915428</td>\n",
       "      <td>0.051569</td>\n",
       "      <td>...</td>\n",
       "      <td>-0.167706</td>\n",
       "      <td>-0.185510</td>\n",
       "      <td>-0.760673</td>\n",
       "      <td>0.268858</td>\n",
       "      <td>-0.603364</td>\n",
       "      <td>0.188884</td>\n",
       "      <td>0.033761</td>\n",
       "      <td>-0.039088</td>\n",
       "      <td>0.043500</td>\n",
       "      <td>-0.333835</td>\n",
       "    </tr>\n",
       "    <tr>\n",
       "      <th>2</th>\n",
       "      <td>-0.725138</td>\n",
       "      <td>-1.235035</td>\n",
       "      <td>0.733929</td>\n",
       "      <td>0.062810</td>\n",
       "      <td>-0.377373</td>\n",
       "      <td>1.293991</td>\n",
       "      <td>0.797185</td>\n",
       "      <td>0.249752</td>\n",
       "      <td>-1.995239</td>\n",
       "      <td>0.392444</td>\n",
       "      <td>...</td>\n",
       "      <td>0.830447</td>\n",
       "      <td>0.336466</td>\n",
       "      <td>1.471338</td>\n",
       "      <td>1.918734</td>\n",
       "      <td>-1.193707</td>\n",
       "      <td>-0.959876</td>\n",
       "      <td>-0.442774</td>\n",
       "      <td>-0.153601</td>\n",
       "      <td>-0.234422</td>\n",
       "      <td>1.696110</td>\n",
       "    </tr>\n",
       "    <tr>\n",
       "      <th>3</th>\n",
       "      <td>-0.467623</td>\n",
       "      <td>-0.356408</td>\n",
       "      <td>0.750937</td>\n",
       "      <td>-0.808030</td>\n",
       "      <td>0.042565</td>\n",
       "      <td>0.868121</td>\n",
       "      <td>0.283501</td>\n",
       "      <td>0.353112</td>\n",
       "      <td>-1.885794</td>\n",
       "      <td>0.153501</td>\n",
       "      <td>...</td>\n",
       "      <td>-0.401179</td>\n",
       "      <td>-0.056083</td>\n",
       "      <td>0.258431</td>\n",
       "      <td>-0.326493</td>\n",
       "      <td>-2.015264</td>\n",
       "      <td>1.303733</td>\n",
       "      <td>-0.591732</td>\n",
       "      <td>0.137995</td>\n",
       "      <td>0.217896</td>\n",
       "      <td>0.318445</td>\n",
       "    </tr>\n",
       "    <tr>\n",
       "      <th>4</th>\n",
       "      <td>-0.593701</td>\n",
       "      <td>0.452248</td>\n",
       "      <td>0.540940</td>\n",
       "      <td>0.079101</td>\n",
       "      <td>-0.295578</td>\n",
       "      <td>-0.018016</td>\n",
       "      <td>0.613062</td>\n",
       "      <td>-0.163028</td>\n",
       "      <td>0.004829</td>\n",
       "      <td>0.888749</td>\n",
       "      <td>...</td>\n",
       "      <td>0.634808</td>\n",
       "      <td>0.052846</td>\n",
       "      <td>1.513434</td>\n",
       "      <td>-0.218569</td>\n",
       "      <td>0.209441</td>\n",
       "      <td>-0.677493</td>\n",
       "      <td>0.710640</td>\n",
       "      <td>0.524976</td>\n",
       "      <td>0.791442</td>\n",
       "      <td>0.029532</td>\n",
       "    </tr>\n",
       "  </tbody>\n",
       "</table>\n",
       "<p>5 rows × 29 columns</p>\n",
       "</div>"
      ],
      "text/plain": [
       "         V1        V2        V3        V4        V5        V6        V7  \\\n",
       "0 -0.726092 -0.270865  1.389980  0.762227 -0.236899  0.264052  0.285346   \n",
       "1  0.949810 -0.013020 -0.647336  0.110710  0.102482 -0.155239 -0.009963   \n",
       "2 -0.725138 -1.235035  0.733929  0.062810 -0.377373  1.293991  0.797185   \n",
       "3 -0.467623 -0.356408  0.750937 -0.808030  0.042565  0.868121  0.283501   \n",
       "4 -0.593701  0.452248  0.540940  0.079101 -0.295578 -0.018016  0.613062   \n",
       "\n",
       "         V8        V9       V10  ...       V20       V21       V22       V23  \\\n",
       "0  0.131083 -0.384443  0.286120  ...  0.370795  0.043066  0.689788 -0.163478   \n",
       "1  0.120253 -0.915428  0.051569  ... -0.167706 -0.185510 -0.760673  0.268858   \n",
       "2  0.249752 -1.995239  0.392444  ...  0.830447  0.336466  1.471338  1.918734   \n",
       "3  0.353112 -1.885794  0.153501  ... -0.401179 -0.056083  0.258431 -0.326493   \n",
       "4 -0.163028  0.004829  0.888749  ...  0.634808  0.052846  1.513434 -0.218569   \n",
       "\n",
       "        V24       V25       V26       V27       V28    Amount  \n",
       "0  0.083851  0.099198 -0.532722  0.312929 -0.090009  0.459472  \n",
       "1 -0.603364  0.188884  0.033761 -0.039088  0.043500 -0.333835  \n",
       "2 -1.193707 -0.959876 -0.442774 -0.153601 -0.234422  1.696110  \n",
       "3 -2.015264  1.303733 -0.591732  0.137995  0.217896  0.318445  \n",
       "4  0.209441 -0.677493  0.710640  0.524976  0.791442  0.029532  \n",
       "\n",
       "[5 rows x 29 columns]"
      ]
     },
     "execution_count": 13,
     "metadata": {},
     "output_type": "execute_result"
    }
   ],
   "source": [
    "# scale data\n",
    "scaler = StandardScaler()\n",
    "X_scaled = pd.DataFrame(scaler.fit_transform(df_kmeans), columns=df.columns)\n",
    "X_scaled.head()"
   ]
  },
  {
   "cell_type": "code",
   "execution_count": 14,
   "id": "a1833381-b743-48ef-b8f7-cde59f3f5a62",
   "metadata": {},
   "outputs": [
    {
     "data": {
      "text/html": [
       "<style>#sk-container-id-1 {color: black;background-color: white;}#sk-container-id-1 pre{padding: 0;}#sk-container-id-1 div.sk-toggleable {background-color: white;}#sk-container-id-1 label.sk-toggleable__label {cursor: pointer;display: block;width: 100%;margin-bottom: 0;padding: 0.3em;box-sizing: border-box;text-align: center;}#sk-container-id-1 label.sk-toggleable__label-arrow:before {content: \"▸\";float: left;margin-right: 0.25em;color: #696969;}#sk-container-id-1 label.sk-toggleable__label-arrow:hover:before {color: black;}#sk-container-id-1 div.sk-estimator:hover label.sk-toggleable__label-arrow:before {color: black;}#sk-container-id-1 div.sk-toggleable__content {max-height: 0;max-width: 0;overflow: hidden;text-align: left;background-color: #f0f8ff;}#sk-container-id-1 div.sk-toggleable__content pre {margin: 0.2em;color: black;border-radius: 0.25em;background-color: #f0f8ff;}#sk-container-id-1 input.sk-toggleable__control:checked~div.sk-toggleable__content {max-height: 200px;max-width: 100%;overflow: auto;}#sk-container-id-1 input.sk-toggleable__control:checked~label.sk-toggleable__label-arrow:before {content: \"▾\";}#sk-container-id-1 div.sk-estimator input.sk-toggleable__control:checked~label.sk-toggleable__label {background-color: #d4ebff;}#sk-container-id-1 div.sk-label input.sk-toggleable__control:checked~label.sk-toggleable__label {background-color: #d4ebff;}#sk-container-id-1 input.sk-hidden--visually {border: 0;clip: rect(1px 1px 1px 1px);clip: rect(1px, 1px, 1px, 1px);height: 1px;margin: -1px;overflow: hidden;padding: 0;position: absolute;width: 1px;}#sk-container-id-1 div.sk-estimator {font-family: monospace;background-color: #f0f8ff;border: 1px dotted black;border-radius: 0.25em;box-sizing: border-box;margin-bottom: 0.5em;}#sk-container-id-1 div.sk-estimator:hover {background-color: #d4ebff;}#sk-container-id-1 div.sk-parallel-item::after {content: \"\";width: 100%;border-bottom: 1px solid gray;flex-grow: 1;}#sk-container-id-1 div.sk-label:hover label.sk-toggleable__label {background-color: #d4ebff;}#sk-container-id-1 div.sk-serial::before {content: \"\";position: absolute;border-left: 1px solid gray;box-sizing: border-box;top: 0;bottom: 0;left: 50%;z-index: 0;}#sk-container-id-1 div.sk-serial {display: flex;flex-direction: column;align-items: center;background-color: white;padding-right: 0.2em;padding-left: 0.2em;position: relative;}#sk-container-id-1 div.sk-item {position: relative;z-index: 1;}#sk-container-id-1 div.sk-parallel {display: flex;align-items: stretch;justify-content: center;background-color: white;position: relative;}#sk-container-id-1 div.sk-item::before, #sk-container-id-1 div.sk-parallel-item::before {content: \"\";position: absolute;border-left: 1px solid gray;box-sizing: border-box;top: 0;bottom: 0;left: 50%;z-index: -1;}#sk-container-id-1 div.sk-parallel-item {display: flex;flex-direction: column;z-index: 1;position: relative;background-color: white;}#sk-container-id-1 div.sk-parallel-item:first-child::after {align-self: flex-end;width: 50%;}#sk-container-id-1 div.sk-parallel-item:last-child::after {align-self: flex-start;width: 50%;}#sk-container-id-1 div.sk-parallel-item:only-child::after {width: 0;}#sk-container-id-1 div.sk-dashed-wrapped {border: 1px dashed gray;margin: 0 0.4em 0.5em 0.4em;box-sizing: border-box;padding-bottom: 0.4em;background-color: white;}#sk-container-id-1 div.sk-label label {font-family: monospace;font-weight: bold;display: inline-block;line-height: 1.2em;}#sk-container-id-1 div.sk-label-container {text-align: center;}#sk-container-id-1 div.sk-container {/* jupyter's `normalize.less` sets `[hidden] { display: none; }` but bootstrap.min.css set `[hidden] { display: none !important; }` so we also need the `!important` here to be able to override the default hidden behavior on the sphinx rendered scikit-learn.org. See: https://github.com/scikit-learn/scikit-learn/issues/21755 */display: inline-block !important;position: relative;}#sk-container-id-1 div.sk-text-repr-fallback {display: none;}</style><div id=\"sk-container-id-1\" class=\"sk-top-container\"><div class=\"sk-text-repr-fallback\"><pre>KMeans(n_clusters=3, n_init=&#x27;auto&#x27;, random_state=42)</pre><b>In a Jupyter environment, please rerun this cell to show the HTML representation or trust the notebook. <br />On GitHub, the HTML representation is unable to render, please try loading this page with nbviewer.org.</b></div><div class=\"sk-container\" hidden><div class=\"sk-item\"><div class=\"sk-estimator sk-toggleable\"><input class=\"sk-toggleable__control sk-hidden--visually\" id=\"sk-estimator-id-1\" type=\"checkbox\" checked><label for=\"sk-estimator-id-1\" class=\"sk-toggleable__label sk-toggleable__label-arrow\">KMeans</label><div class=\"sk-toggleable__content\"><pre>KMeans(n_clusters=3, n_init=&#x27;auto&#x27;, random_state=42)</pre></div></div></div></div></div>"
      ],
      "text/plain": [
       "KMeans(n_clusters=3, n_init='auto', random_state=42)"
      ]
     },
     "execution_count": 14,
     "metadata": {},
     "output_type": "execute_result"
    }
   ],
   "source": [
    "# Fit a KMeans model to create 3 clusters.  Please use a random state of 42 for your model.\n",
    "Kmeans = KMeans (n_clusters = 3, n_init = 'auto', random_state = 42)\n",
    "Kmeans.fit(X_scaled)"
   ]
  },
  {
   "cell_type": "code",
   "execution_count": 18,
   "id": "73369f59-1b90-45bd-a1a2-603f1c156239",
   "metadata": {},
   "outputs": [
    {
     "data": {
      "text/html": [
       "<div>\n",
       "<style scoped>\n",
       "    .dataframe tbody tr th:only-of-type {\n",
       "        vertical-align: middle;\n",
       "    }\n",
       "\n",
       "    .dataframe tbody tr th {\n",
       "        vertical-align: top;\n",
       "    }\n",
       "\n",
       "    .dataframe thead th {\n",
       "        text-align: right;\n",
       "    }\n",
       "</style>\n",
       "<table border=\"1\" class=\"dataframe\">\n",
       "  <thead>\n",
       "    <tr style=\"text-align: right;\">\n",
       "      <th></th>\n",
       "      <th>V1</th>\n",
       "      <th>V2</th>\n",
       "      <th>V3</th>\n",
       "      <th>V4</th>\n",
       "      <th>V5</th>\n",
       "      <th>V6</th>\n",
       "      <th>V7</th>\n",
       "      <th>V8</th>\n",
       "      <th>V9</th>\n",
       "      <th>V10</th>\n",
       "      <th>...</th>\n",
       "      <th>V21</th>\n",
       "      <th>V22</th>\n",
       "      <th>V23</th>\n",
       "      <th>V24</th>\n",
       "      <th>V25</th>\n",
       "      <th>V26</th>\n",
       "      <th>V27</th>\n",
       "      <th>V28</th>\n",
       "      <th>Amount</th>\n",
       "      <th>cluster</th>\n",
       "    </tr>\n",
       "  </thead>\n",
       "  <tbody>\n",
       "    <tr>\n",
       "      <th>0</th>\n",
       "      <td>-1.359807</td>\n",
       "      <td>-0.072781</td>\n",
       "      <td>2.536347</td>\n",
       "      <td>1.378155</td>\n",
       "      <td>-0.338321</td>\n",
       "      <td>0.462388</td>\n",
       "      <td>0.239599</td>\n",
       "      <td>0.098698</td>\n",
       "      <td>0.363787</td>\n",
       "      <td>0.090794</td>\n",
       "      <td>...</td>\n",
       "      <td>-0.018307</td>\n",
       "      <td>0.277838</td>\n",
       "      <td>-0.110474</td>\n",
       "      <td>0.066928</td>\n",
       "      <td>0.128539</td>\n",
       "      <td>-0.189115</td>\n",
       "      <td>0.133558</td>\n",
       "      <td>-0.021053</td>\n",
       "      <td>149.62</td>\n",
       "      <td>2</td>\n",
       "    </tr>\n",
       "    <tr>\n",
       "      <th>1</th>\n",
       "      <td>1.191857</td>\n",
       "      <td>0.266151</td>\n",
       "      <td>0.166480</td>\n",
       "      <td>0.448154</td>\n",
       "      <td>0.060018</td>\n",
       "      <td>-0.082361</td>\n",
       "      <td>-0.078803</td>\n",
       "      <td>0.085102</td>\n",
       "      <td>-0.255425</td>\n",
       "      <td>-0.166974</td>\n",
       "      <td>...</td>\n",
       "      <td>-0.225775</td>\n",
       "      <td>-0.638672</td>\n",
       "      <td>0.101288</td>\n",
       "      <td>-0.339846</td>\n",
       "      <td>0.167170</td>\n",
       "      <td>0.125895</td>\n",
       "      <td>-0.008983</td>\n",
       "      <td>0.014724</td>\n",
       "      <td>2.69</td>\n",
       "      <td>2</td>\n",
       "    </tr>\n",
       "    <tr>\n",
       "      <th>2</th>\n",
       "      <td>-1.358354</td>\n",
       "      <td>-1.340163</td>\n",
       "      <td>1.773209</td>\n",
       "      <td>0.379780</td>\n",
       "      <td>-0.503198</td>\n",
       "      <td>1.800499</td>\n",
       "      <td>0.791461</td>\n",
       "      <td>0.247676</td>\n",
       "      <td>-1.514654</td>\n",
       "      <td>0.207643</td>\n",
       "      <td>...</td>\n",
       "      <td>0.247998</td>\n",
       "      <td>0.771679</td>\n",
       "      <td>0.909412</td>\n",
       "      <td>-0.689281</td>\n",
       "      <td>-0.327642</td>\n",
       "      <td>-0.139097</td>\n",
       "      <td>-0.055353</td>\n",
       "      <td>-0.059752</td>\n",
       "      <td>378.66</td>\n",
       "      <td>2</td>\n",
       "    </tr>\n",
       "    <tr>\n",
       "      <th>3</th>\n",
       "      <td>-0.966272</td>\n",
       "      <td>-0.185226</td>\n",
       "      <td>1.792993</td>\n",
       "      <td>-0.863291</td>\n",
       "      <td>-0.010309</td>\n",
       "      <td>1.247203</td>\n",
       "      <td>0.237609</td>\n",
       "      <td>0.377436</td>\n",
       "      <td>-1.387024</td>\n",
       "      <td>-0.054952</td>\n",
       "      <td>...</td>\n",
       "      <td>-0.108300</td>\n",
       "      <td>0.005274</td>\n",
       "      <td>-0.190321</td>\n",
       "      <td>-1.175575</td>\n",
       "      <td>0.647376</td>\n",
       "      <td>-0.221929</td>\n",
       "      <td>0.062723</td>\n",
       "      <td>0.061458</td>\n",
       "      <td>123.50</td>\n",
       "      <td>2</td>\n",
       "    </tr>\n",
       "    <tr>\n",
       "      <th>4</th>\n",
       "      <td>-1.158233</td>\n",
       "      <td>0.877737</td>\n",
       "      <td>1.548718</td>\n",
       "      <td>0.403034</td>\n",
       "      <td>-0.407193</td>\n",
       "      <td>0.095921</td>\n",
       "      <td>0.592941</td>\n",
       "      <td>-0.270533</td>\n",
       "      <td>0.817739</td>\n",
       "      <td>0.753074</td>\n",
       "      <td>...</td>\n",
       "      <td>-0.009431</td>\n",
       "      <td>0.798278</td>\n",
       "      <td>-0.137458</td>\n",
       "      <td>0.141267</td>\n",
       "      <td>-0.206010</td>\n",
       "      <td>0.502292</td>\n",
       "      <td>0.219422</td>\n",
       "      <td>0.215153</td>\n",
       "      <td>69.99</td>\n",
       "      <td>2</td>\n",
       "    </tr>\n",
       "  </tbody>\n",
       "</table>\n",
       "<p>5 rows × 30 columns</p>\n",
       "</div>"
      ],
      "text/plain": [
       "         V1        V2        V3        V4        V5        V6        V7  \\\n",
       "0 -1.359807 -0.072781  2.536347  1.378155 -0.338321  0.462388  0.239599   \n",
       "1  1.191857  0.266151  0.166480  0.448154  0.060018 -0.082361 -0.078803   \n",
       "2 -1.358354 -1.340163  1.773209  0.379780 -0.503198  1.800499  0.791461   \n",
       "3 -0.966272 -0.185226  1.792993 -0.863291 -0.010309  1.247203  0.237609   \n",
       "4 -1.158233  0.877737  1.548718  0.403034 -0.407193  0.095921  0.592941   \n",
       "\n",
       "         V8        V9       V10  ...       V21       V22       V23       V24  \\\n",
       "0  0.098698  0.363787  0.090794  ... -0.018307  0.277838 -0.110474  0.066928   \n",
       "1  0.085102 -0.255425 -0.166974  ... -0.225775 -0.638672  0.101288 -0.339846   \n",
       "2  0.247676 -1.514654  0.207643  ...  0.247998  0.771679  0.909412 -0.689281   \n",
       "3  0.377436 -1.387024 -0.054952  ... -0.108300  0.005274 -0.190321 -1.175575   \n",
       "4 -0.270533  0.817739  0.753074  ... -0.009431  0.798278 -0.137458  0.141267   \n",
       "\n",
       "        V25       V26       V27       V28  Amount  cluster  \n",
       "0  0.128539 -0.189115  0.133558 -0.021053  149.62        2  \n",
       "1  0.167170  0.125895 -0.008983  0.014724    2.69        2  \n",
       "2 -0.327642 -0.139097 -0.055353 -0.059752  378.66        2  \n",
       "3  0.647376 -0.221929  0.062723  0.061458  123.50        2  \n",
       "4 -0.206010  0.502292  0.219422  0.215153   69.99        2  \n",
       "\n",
       "[5 rows x 30 columns]"
      ]
     },
     "execution_count": 18,
     "metadata": {},
     "output_type": "execute_result"
    }
   ],
   "source": [
    "# Add the clusters as a column in the dataframe\n",
    "df_kmeans['cluster'] = Kmeans.labels_\n",
    "df_kmeans.head()"
   ]
  },
  {
   "cell_type": "code",
   "execution_count": 21,
   "id": "236d097b-2caf-4b76-a912-c585e2d4f514",
   "metadata": {},
   "outputs": [
    {
     "data": {
      "text/html": [
       "<div>\n",
       "<style scoped>\n",
       "    .dataframe tbody tr th:only-of-type {\n",
       "        vertical-align: middle;\n",
       "    }\n",
       "\n",
       "    .dataframe tbody tr th {\n",
       "        vertical-align: top;\n",
       "    }\n",
       "\n",
       "    .dataframe thead th {\n",
       "        text-align: right;\n",
       "    }\n",
       "</style>\n",
       "<table border=\"1\" class=\"dataframe\">\n",
       "  <thead>\n",
       "    <tr style=\"text-align: right;\">\n",
       "      <th></th>\n",
       "      <th>V1</th>\n",
       "      <th>V2</th>\n",
       "      <th>V3</th>\n",
       "      <th>V4</th>\n",
       "      <th>V5</th>\n",
       "      <th>V6</th>\n",
       "      <th>V7</th>\n",
       "      <th>V8</th>\n",
       "      <th>V9</th>\n",
       "      <th>V10</th>\n",
       "      <th>...</th>\n",
       "      <th>V20</th>\n",
       "      <th>V21</th>\n",
       "      <th>V22</th>\n",
       "      <th>V23</th>\n",
       "      <th>V24</th>\n",
       "      <th>V25</th>\n",
       "      <th>V26</th>\n",
       "      <th>V27</th>\n",
       "      <th>V28</th>\n",
       "      <th>Amount</th>\n",
       "    </tr>\n",
       "  </thead>\n",
       "  <tbody>\n",
       "    <tr>\n",
       "      <th>0</th>\n",
       "      <td>-0.733373</td>\n",
       "      <td>0.614894</td>\n",
       "      <td>0.258886</td>\n",
       "      <td>0.531868</td>\n",
       "      <td>0.219655</td>\n",
       "      <td>0.238605</td>\n",
       "      <td>0.128409</td>\n",
       "      <td>-0.380314</td>\n",
       "      <td>0.343987</td>\n",
       "      <td>0.452917</td>\n",
       "      <td>...</td>\n",
       "      <td>0.132644</td>\n",
       "      <td>0.097765</td>\n",
       "      <td>0.024092</td>\n",
       "      <td>0.099802</td>\n",
       "      <td>0.018579</td>\n",
       "      <td>-0.634795</td>\n",
       "      <td>-0.172748</td>\n",
       "      <td>-0.163275</td>\n",
       "      <td>-0.312725</td>\n",
       "      <td>-0.051803</td>\n",
       "    </tr>\n",
       "    <tr>\n",
       "      <th>1</th>\n",
       "      <td>0.350063</td>\n",
       "      <td>-0.280681</td>\n",
       "      <td>-0.018162</td>\n",
       "      <td>-0.114395</td>\n",
       "      <td>-0.090054</td>\n",
       "      <td>-0.017565</td>\n",
       "      <td>-0.214025</td>\n",
       "      <td>0.106396</td>\n",
       "      <td>0.477030</td>\n",
       "      <td>-0.264719</td>\n",
       "      <td>...</td>\n",
       "      <td>-0.092215</td>\n",
       "      <td>-0.099574</td>\n",
       "      <td>-0.111600</td>\n",
       "      <td>0.012146</td>\n",
       "      <td>-0.002878</td>\n",
       "      <td>0.258292</td>\n",
       "      <td>0.243903</td>\n",
       "      <td>-0.044990</td>\n",
       "      <td>0.087200</td>\n",
       "      <td>0.010428</td>\n",
       "    </tr>\n",
       "    <tr>\n",
       "      <th>2</th>\n",
       "      <td>-0.025225</td>\n",
       "      <td>0.006732</td>\n",
       "      <td>-0.109574</td>\n",
       "      <td>-0.138477</td>\n",
       "      <td>-0.009073</td>\n",
       "      <td>-0.100062</td>\n",
       "      <td>0.176078</td>\n",
       "      <td>0.071372</td>\n",
       "      <td>-0.708874</td>\n",
       "      <td>0.070121</td>\n",
       "      <td>...</td>\n",
       "      <td>0.037044</td>\n",
       "      <td>0.062828</td>\n",
       "      <td>0.113336</td>\n",
       "      <td>-0.063763</td>\n",
       "      <td>-0.006094</td>\n",
       "      <td>0.028424</td>\n",
       "      <td>-0.187398</td>\n",
       "      <td>0.132547</td>\n",
       "      <td>0.059011</td>\n",
       "      <td>0.014290</td>\n",
       "    </tr>\n",
       "  </tbody>\n",
       "</table>\n",
       "<p>3 rows × 29 columns</p>\n",
       "</div>"
      ],
      "text/plain": [
       "         V1        V2        V3        V4        V5        V6        V7  \\\n",
       "0 -0.733373  0.614894  0.258886  0.531868  0.219655  0.238605  0.128409   \n",
       "1  0.350063 -0.280681 -0.018162 -0.114395 -0.090054 -0.017565 -0.214025   \n",
       "2 -0.025225  0.006732 -0.109574 -0.138477 -0.009073 -0.100062  0.176078   \n",
       "\n",
       "         V8        V9       V10  ...       V20       V21       V22       V23  \\\n",
       "0 -0.380314  0.343987  0.452917  ...  0.132644  0.097765  0.024092  0.099802   \n",
       "1  0.106396  0.477030 -0.264719  ... -0.092215 -0.099574 -0.111600  0.012146   \n",
       "2  0.071372 -0.708874  0.070121  ...  0.037044  0.062828  0.113336 -0.063763   \n",
       "\n",
       "        V24       V25       V26       V27       V28    Amount  \n",
       "0  0.018579 -0.634795 -0.172748 -0.163275 -0.312725 -0.051803  \n",
       "1 -0.002878  0.258292  0.243903 -0.044990  0.087200  0.010428  \n",
       "2 -0.006094  0.028424 -0.187398  0.132547  0.059011  0.014290  \n",
       "\n",
       "[3 rows x 29 columns]"
      ]
     },
     "execution_count": 21,
     "metadata": {},
     "output_type": "execute_result"
    }
   ],
   "source": [
    "# Saving the cluster centers as a dataframe for visibility\n",
    "cluster_centers = pd.DataFrame(Kmeans.cluster_centers_, columns=X_scaled.columns)\n",
    "cluster_centers"
   ]
  },
  {
   "cell_type": "code",
   "execution_count": 23,
   "id": "056e91e5-ea99-423d-a5f8-9f731bdf0dc4",
   "metadata": {},
   "outputs": [],
   "source": [
    "# Use scipy.spatial.distance.cdist to create a matrix of distances between each data point and each cluster center\n",
    "distances = cdist(X_scaled, Kmeans.cluster_centers_, 'euclidean')"
   ]
  },
  {
   "cell_type": "code",
   "execution_count": 24,
   "id": "8954c7fa-47dd-4156-9e38-1f9fd2e8ba61",
   "metadata": {},
   "outputs": [
    {
     "data": {
      "text/plain": [
       "(10000, 3)"
      ]
     },
     "execution_count": 24,
     "metadata": {},
     "output_type": "execute_result"
    }
   ],
   "source": [
    "distances.shape"
   ]
  },
  {
   "cell_type": "code",
   "execution_count": 26,
   "id": "ec72a869-2703-43f9-90ff-eedc2e5eb4bf",
   "metadata": {},
   "outputs": [
    {
     "data": {
      "text/html": [
       "<div>\n",
       "<style scoped>\n",
       "    .dataframe tbody tr th:only-of-type {\n",
       "        vertical-align: middle;\n",
       "    }\n",
       "\n",
       "    .dataframe tbody tr th {\n",
       "        vertical-align: top;\n",
       "    }\n",
       "\n",
       "    .dataframe thead th {\n",
       "        text-align: right;\n",
       "    }\n",
       "</style>\n",
       "<table border=\"1\" class=\"dataframe\">\n",
       "  <thead>\n",
       "    <tr style=\"text-align: right;\">\n",
       "      <th></th>\n",
       "      <th>Distance (Cluster 0)</th>\n",
       "      <th>Distance (Cluster 1)</th>\n",
       "      <th>Distance (Cluster 2)</th>\n",
       "    </tr>\n",
       "  </thead>\n",
       "  <tbody>\n",
       "    <tr>\n",
       "      <th>0</th>\n",
       "      <td>4.127849</td>\n",
       "      <td>4.695017</td>\n",
       "      <td>2.825513</td>\n",
       "    </tr>\n",
       "    <tr>\n",
       "      <th>1</th>\n",
       "      <td>4.287068</td>\n",
       "      <td>3.583366</td>\n",
       "      <td>2.400110</td>\n",
       "    </tr>\n",
       "    <tr>\n",
       "      <th>2</th>\n",
       "      <td>7.190748</td>\n",
       "      <td>7.558619</td>\n",
       "      <td>6.579811</td>\n",
       "    </tr>\n",
       "  </tbody>\n",
       "</table>\n",
       "</div>"
      ],
      "text/plain": [
       "   Distance (Cluster 0)  Distance (Cluster 1)  Distance (Cluster 2)\n",
       "0              4.127849              4.695017              2.825513\n",
       "1              4.287068              3.583366              2.400110\n",
       "2              7.190748              7.558619              6.579811"
      ]
     },
     "execution_count": 26,
     "metadata": {},
     "output_type": "execute_result"
    }
   ],
   "source": [
    "# Saving distances as a dataframe for convenience\n",
    "cluster_cols = [f\"Distance (Cluster {c})\" for  c in range(len(Kmeans.cluster_centers_))]\n",
    "distance_df = pd.DataFrame(distances, columns = cluster_cols)\n",
    "distance_df.head(3)"
   ]
  },
  {
   "cell_type": "code",
   "execution_count": 29,
   "id": "f9e82457-09c4-48d7-8138-fe8906f904f2",
   "metadata": {},
   "outputs": [],
   "source": [
    "# Get the minimum distance to any cluster for each point\n",
    "min_distances = np.min(distances, axis=1)"
   ]
  },
  {
   "cell_type": "code",
   "execution_count": 36,
   "id": "63f995ce-1848-4965-b5e5-75e4f43f334c",
   "metadata": {},
   "outputs": [
    {
     "data": {
      "text/plain": [
       "20.678582375061943"
      ]
     },
     "execution_count": 36,
     "metadata": {},
     "output_type": "execute_result"
    }
   ],
   "source": [
    "# Set a threshold based on a percentile\n",
    "threshold = np.percentile(min_distances, 99.6)\n",
    "threshold"
   ]
  },
  {
   "cell_type": "code",
   "execution_count": 37,
   "id": "0684eccf-778e-4285-a677-619c402a2858",
   "metadata": {},
   "outputs": [
    {
     "data": {
      "text/plain": [
       "40"
      ]
     },
     "execution_count": 37,
     "metadata": {},
     "output_type": "execute_result"
    }
   ],
   "source": [
    "# Identify anomalies where the distance to closest cluster center is above the threshold\n",
    "filter_anomalies = min_distances > threshold\n",
    "# how many were found?\n",
    "filter_anomalies.sum()"
   ]
  },
  {
   "cell_type": "code",
   "execution_count": 44,
   "id": "80a56c24-f87d-4a37-a866-b8dfab4887ad",
   "metadata": {},
   "outputs": [
    {
     "data": {
      "text/plain": [
       "Int64Index([ 159, 1376, 1619, 2156, 2212, 2439, 2594, 2654, 2756, 2911, 2914,\n",
       "            2917, 2923, 3443, 5303, 5412, 5413, 5529, 5674, 5704, 5764, 5977,\n",
       "            6489, 6643, 6672, 7322, 7338, 7470, 7596, 7597, 8124, 8163, 8437,\n",
       "            8442, 8856, 8939, 8999, 9071, 9304, 9326],\n",
       "           dtype='int64')"
      ]
     },
     "execution_count": 44,
     "metadata": {},
     "output_type": "execute_result"
    }
   ],
   "source": [
    "# Define a list of the indices of the anomalous data using the threshold given by the stakeholder \n",
    "kmeans_anomalies = X_scaled[filter_anomalies].index\n",
    "kmeans_anomalies"
   ]
  },
  {
   "cell_type": "markdown",
   "id": "a8f41fb8-9881-455f-9dd7-2cecc9d458b8",
   "metadata": {},
   "source": [
    "# 2. Isolation Forest:"
   ]
  },
  {
   "cell_type": "code",
   "execution_count": 39,
   "id": "ab434cfa-b230-4e37-a0b2-402f0e4045f6",
   "metadata": {},
   "outputs": [
    {
     "data": {
      "text/html": [
       "<style>#sk-container-id-2 {color: black;background-color: white;}#sk-container-id-2 pre{padding: 0;}#sk-container-id-2 div.sk-toggleable {background-color: white;}#sk-container-id-2 label.sk-toggleable__label {cursor: pointer;display: block;width: 100%;margin-bottom: 0;padding: 0.3em;box-sizing: border-box;text-align: center;}#sk-container-id-2 label.sk-toggleable__label-arrow:before {content: \"▸\";float: left;margin-right: 0.25em;color: #696969;}#sk-container-id-2 label.sk-toggleable__label-arrow:hover:before {color: black;}#sk-container-id-2 div.sk-estimator:hover label.sk-toggleable__label-arrow:before {color: black;}#sk-container-id-2 div.sk-toggleable__content {max-height: 0;max-width: 0;overflow: hidden;text-align: left;background-color: #f0f8ff;}#sk-container-id-2 div.sk-toggleable__content pre {margin: 0.2em;color: black;border-radius: 0.25em;background-color: #f0f8ff;}#sk-container-id-2 input.sk-toggleable__control:checked~div.sk-toggleable__content {max-height: 200px;max-width: 100%;overflow: auto;}#sk-container-id-2 input.sk-toggleable__control:checked~label.sk-toggleable__label-arrow:before {content: \"▾\";}#sk-container-id-2 div.sk-estimator input.sk-toggleable__control:checked~label.sk-toggleable__label {background-color: #d4ebff;}#sk-container-id-2 div.sk-label input.sk-toggleable__control:checked~label.sk-toggleable__label {background-color: #d4ebff;}#sk-container-id-2 input.sk-hidden--visually {border: 0;clip: rect(1px 1px 1px 1px);clip: rect(1px, 1px, 1px, 1px);height: 1px;margin: -1px;overflow: hidden;padding: 0;position: absolute;width: 1px;}#sk-container-id-2 div.sk-estimator {font-family: monospace;background-color: #f0f8ff;border: 1px dotted black;border-radius: 0.25em;box-sizing: border-box;margin-bottom: 0.5em;}#sk-container-id-2 div.sk-estimator:hover {background-color: #d4ebff;}#sk-container-id-2 div.sk-parallel-item::after {content: \"\";width: 100%;border-bottom: 1px solid gray;flex-grow: 1;}#sk-container-id-2 div.sk-label:hover label.sk-toggleable__label {background-color: #d4ebff;}#sk-container-id-2 div.sk-serial::before {content: \"\";position: absolute;border-left: 1px solid gray;box-sizing: border-box;top: 0;bottom: 0;left: 50%;z-index: 0;}#sk-container-id-2 div.sk-serial {display: flex;flex-direction: column;align-items: center;background-color: white;padding-right: 0.2em;padding-left: 0.2em;position: relative;}#sk-container-id-2 div.sk-item {position: relative;z-index: 1;}#sk-container-id-2 div.sk-parallel {display: flex;align-items: stretch;justify-content: center;background-color: white;position: relative;}#sk-container-id-2 div.sk-item::before, #sk-container-id-2 div.sk-parallel-item::before {content: \"\";position: absolute;border-left: 1px solid gray;box-sizing: border-box;top: 0;bottom: 0;left: 50%;z-index: -1;}#sk-container-id-2 div.sk-parallel-item {display: flex;flex-direction: column;z-index: 1;position: relative;background-color: white;}#sk-container-id-2 div.sk-parallel-item:first-child::after {align-self: flex-end;width: 50%;}#sk-container-id-2 div.sk-parallel-item:last-child::after {align-self: flex-start;width: 50%;}#sk-container-id-2 div.sk-parallel-item:only-child::after {width: 0;}#sk-container-id-2 div.sk-dashed-wrapped {border: 1px dashed gray;margin: 0 0.4em 0.5em 0.4em;box-sizing: border-box;padding-bottom: 0.4em;background-color: white;}#sk-container-id-2 div.sk-label label {font-family: monospace;font-weight: bold;display: inline-block;line-height: 1.2em;}#sk-container-id-2 div.sk-label-container {text-align: center;}#sk-container-id-2 div.sk-container {/* jupyter's `normalize.less` sets `[hidden] { display: none; }` but bootstrap.min.css set `[hidden] { display: none !important; }` so we also need the `!important` here to be able to override the default hidden behavior on the sphinx rendered scikit-learn.org. See: https://github.com/scikit-learn/scikit-learn/issues/21755 */display: inline-block !important;position: relative;}#sk-container-id-2 div.sk-text-repr-fallback {display: none;}</style><div id=\"sk-container-id-2\" class=\"sk-top-container\"><div class=\"sk-text-repr-fallback\"><pre>IsolationForest(contamination=0.004, random_state=42)</pre><b>In a Jupyter environment, please rerun this cell to show the HTML representation or trust the notebook. <br />On GitHub, the HTML representation is unable to render, please try loading this page with nbviewer.org.</b></div><div class=\"sk-container\" hidden><div class=\"sk-item\"><div class=\"sk-estimator sk-toggleable\"><input class=\"sk-toggleable__control sk-hidden--visually\" id=\"sk-estimator-id-2\" type=\"checkbox\" checked><label for=\"sk-estimator-id-2\" class=\"sk-toggleable__label sk-toggleable__label-arrow\">IsolationForest</label><div class=\"sk-toggleable__content\"><pre>IsolationForest(contamination=0.004, random_state=42)</pre></div></div></div></div></div>"
      ],
      "text/plain": [
       "IsolationForest(contamination=0.004, random_state=42)"
      ]
     },
     "execution_count": 39,
     "metadata": {},
     "output_type": "execute_result"
    }
   ],
   "source": [
    "# Instantiate the model with a contaimination of 0.05 (we will identify 5% as anamolous)\n",
    "iso = IsolationForest(contamination=0.004, random_state = 42)\n",
    "# fit the model using .values to avoid a warning\n",
    "iso.fit(df.values)"
   ]
  },
  {
   "cell_type": "code",
   "execution_count": 41,
   "id": "3b904435-301c-457b-b75b-c8c19af87d1c",
   "metadata": {},
   "outputs": [],
   "source": [
    "# Obtain results from the model\n",
    "predictions = iso.predict(df.values)"
   ]
  },
  {
   "cell_type": "code",
   "execution_count": 42,
   "id": "601e529d-350c-44ca-baab-93001698c143",
   "metadata": {},
   "outputs": [],
   "source": [
    "# Change the labels to match our columns from the kmeans dataframe\n",
    "# Not anamolies\n",
    "predictions[predictions ==1] = 0\n",
    "# Anomalies\n",
    "predictions[predictions ==-1] = 1"
   ]
  },
  {
   "cell_type": "code",
   "execution_count": 45,
   "id": "245fc08f-ccb5-4d8f-bca1-8f670a7357e9",
   "metadata": {},
   "outputs": [
    {
     "data": {
      "text/plain": [
       "Int64Index([ 159, 1619, 2156, 2756, 2858, 2914, 2917, 2923, 5303, 5412, 5413,\n",
       "            5704, 6311, 6489, 6581, 6595, 6634, 6643, 6672, 6757, 6761, 6798,\n",
       "            6829, 7338, 7470, 7596, 7597, 8124, 8163, 8437, 8442, 8627, 8645,\n",
       "            8667, 8670, 8856, 8999, 9071, 9304, 9326],\n",
       "           dtype='int64')"
      ]
     },
     "execution_count": 45,
     "metadata": {},
     "output_type": "execute_result"
    }
   ],
   "source": [
    "# Define a list of the indices of the anomalous data using IsolationForest\n",
    "iso_anomalies = df[predictions == 1].index\n",
    "iso_anomalies"
   ]
  },
  {
   "cell_type": "markdown",
   "id": "ce112eb7-6cc8-42b2-9594-09571ac70211",
   "metadata": {},
   "source": [
    "# 3. Compare the list of anomalies from KMeans and Isolation Forest.  "
   ]
  },
  {
   "cell_type": "code",
   "execution_count": 47,
   "id": "2528b7d3-b3fc-4a12-b17f-65fc100cddcf",
   "metadata": {},
   "outputs": [
    {
     "data": {
      "text/plain": [
       "[159,\n",
       " 1619,\n",
       " 2156,\n",
       " 2756,\n",
       " 2914,\n",
       " 2917,\n",
       " 2923,\n",
       " 5303,\n",
       " 5412,\n",
       " 5413,\n",
       " 5704,\n",
       " 6489,\n",
       " 6643,\n",
       " 6672,\n",
       " 7338,\n",
       " 7470,\n",
       " 7596,\n",
       " 7597,\n",
       " 8124,\n",
       " 8163,\n",
       " 8437,\n",
       " 8442,\n",
       " 8856,\n",
       " 8999,\n",
       " 9071,\n",
       " 9304,\n",
       " 9326]"
      ]
     },
     "execution_count": 47,
     "metadata": {},
     "output_type": "execute_result"
    }
   ],
   "source": [
    "# Make a list of anomolies identified in both methods\n",
    "both = [a for a in iso_anomalies if a in kmeans_anomalies]\n",
    "both"
   ]
  },
  {
   "cell_type": "code",
   "execution_count": 49,
   "id": "5f75c859-d754-4d0c-856e-c9b23b6a8b89",
   "metadata": {},
   "outputs": [
    {
     "data": {
      "text/plain": [
       "27"
      ]
     },
     "execution_count": 49,
     "metadata": {},
     "output_type": "execute_result"
    }
   ],
   "source": [
    "len(both)"
   ]
  },
  {
   "cell_type": "markdown",
   "id": "e5ebb27a-dc24-4c3c-83cd-99e76a7358a5",
   "metadata": {},
   "source": [
    "Q1- How many anomalies did the two approaches agree on?\n",
    "    \n",
    "    - 27 anomalies"
   ]
  },
  {
   "cell_type": "code",
   "execution_count": 51,
   "id": "cdf31d3d-c6cf-4a8c-bd33-e7c2248a174c",
   "metadata": {},
   "outputs": [
    {
     "data": {
      "text/plain": [
       "67.5"
      ]
     },
     "execution_count": 51,
     "metadata": {},
     "output_type": "execute_result"
    }
   ],
   "source": [
    "# Calculate the percentage of the anomalies didthe two approaches agree on\n",
    "anomalie_number = 40\n",
    "percentage = (27 * 100) / anomalie_number\n",
    "percentage"
   ]
  },
  {
   "cell_type": "markdown",
   "id": "ae9235cb-71dd-4391-8f71-c148f96bed3a",
   "metadata": {},
   "source": [
    "Q2- What percentage of the anomalies did the two approaches agree on?\n",
    "    \n",
    "    - 67.5 %"
   ]
  }
 ],
 "metadata": {
  "kernelspec": {
   "display_name": "Python (dojo-env)",
   "language": "python",
   "name": "dojo-env"
  },
  "language_info": {
   "codemirror_mode": {
    "name": "ipython",
    "version": 3
   },
   "file_extension": ".py",
   "mimetype": "text/x-python",
   "name": "python",
   "nbconvert_exporter": "python",
   "pygments_lexer": "ipython3",
   "version": "3.10.10"
  },
  "widgets": {
   "application/vnd.jupyter.widget-state+json": {
    "state": {},
    "version_major": 2,
    "version_minor": 0
   }
  }
 },
 "nbformat": 4,
 "nbformat_minor": 5
}
